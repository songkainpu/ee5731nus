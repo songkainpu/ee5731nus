{
 "cells": [
  {
   "cell_type": "code",
   "execution_count": 7,
   "metadata": {},
   "outputs": [],
   "source": [
    "import cv2\n",
    "import logging\n",
    "import numpy\n",
    "import typing\n",
    "from utils import create_folder, get_logger, debounce, throttle\n",
    "import time\n",
    "\n"
   ]
  },
  {
   "cell_type": "markdown",
   "metadata": {},
   "source": [
    "下面是主程序\n"
   ]
  },
  {
   "cell_type": "code",
   "execution_count": 8,
   "metadata": {},
   "outputs": [
    {
     "data": {
      "text/plain": [
       "-1"
      ]
     },
     "execution_count": 8,
     "metadata": {},
     "output_type": "execute_result"
    }
   ],
   "source": [
    "\n",
    "logger: logging.Logger = get_logger(__name__)\n",
    "\n",
    "def get_homography_martix(points_1, point2_2):\n",
    "    A: numpy.ndarray[int] = numpy.zeros(shape=( len(points_1) * 2 ,  9), dtype=int)\n",
    "    for i in range(len(points_1)):\n",
    "        x1, y1 = points_1[i]\n",
    "        x2, y2 = point2_2[i]\n",
    "        # -x1 * h11 - y1 * h12 - h13 + x2 = 0\n",
    "        # -x1 * h21 - y1 * h22 - h23 + y2 = 0\n",
    "        idx = i + i\n",
    "        A[idx, 0] = -x1\n",
    "        A[idx, 1] = -y1\n",
    "        A[idx, 2] = -1\n",
    "        A[idx, 3:6] = 0\n",
    "        A[idx, 6] = x1 * x2\n",
    "        A[idx, 7] = y1 * x2\n",
    "        A[idx, 8] = x2\n",
    "        idx += 1\n",
    "        A[idx, 0:3] = 0\n",
    "        A[idx, 3] = -x1\n",
    "        A[idx, 4] = -y1\n",
    "        A[idx, 5] = -1\n",
    "        A[idx, 6] = x1 * y2\n",
    "        A[idx, 7] = y1 * y2\n",
    "        A[idx, 8] = y2\n",
    "\n",
    "    _, _, Vt = numpy.linalg.svd(A)\n",
    "\n",
    "    H = Vt[-1].reshape(3, 3)\n",
    "    return H\n",
    "\n",
    "# Load the images h1.jpg and h2.jpg\n",
    "image1 = cv2.imread('h1.jpeg')\n",
    "image2 = cv2.imread('h2.jpeg')\n",
    "image2 = cv2.resize(src=image2, dsize=image1.shape[:2])\n",
    "\n",
    "# Create lists to store selected points for h1.jpg and h2.jpg\n",
    "points_h1 = []\n",
    "points_h2 = []\n",
    "\n",
    "# Function to handle mouse events\n",
    "@throttle(0.5)\n",
    "def select_points(event, x, y, flags, param):\n",
    "    if event == cv2.EVENT_LBUTTONDOWN or event == cv2.EVENT_RBUTTONDOWN:\n",
    "        point_list = param.get(\"point_list\")\n",
    "        if len(point_list) < 4:\n",
    "            cv2.circle(param.get(\"image\"), (x, y), 3, (255, 0, 0), 2)\n",
    "            point_list.append((x,y))\n",
    "\n",
    "# Create windows to display images and set mouse event handlers\n",
    "cv2.namedWindow('h1.jpeg')\n",
    "cv2.setMouseCallback('h1.jpeg', \n",
    "                     select_points, \n",
    "                     {\"image\": image1,\n",
    "                      \"point_list\": points_h1})\n",
    "cv2.namedWindow('h2.jpeg')\n",
    "cv2.setMouseCallback('h2.jpeg', \n",
    "                     select_points, \n",
    "                     {\"image\": image2, \n",
    "                      \"point_list\": points_h2})\n",
    "\n",
    "while True:\n",
    "    # time.sleep(200)\n",
    "    cv2.imshow('h1.jpeg', image1)\n",
    "    cv2.imshow('h2.jpeg', image2)\n",
    "    if cv2.waitKey(1) & 0xFF == ord(\"q\"):\n",
    "        break\n",
    "\n",
    "\n",
    "# Close OpenCV windows\n",
    "# cv2.destroyAllWindows()\n",
    "cv2.destroyAllWindows()\n",
    "cv2.waitKey(1)"
   ]
  },
  {
   "cell_type": "code",
   "execution_count": 9,
   "metadata": {},
   "outputs": [
    {
     "name": "stderr",
     "output_type": "stream",
     "text": [
      "2023-10-01 03:16:12,681 - __main__ - INFO - points_h1:[(26, 23), (1149, 30), (1138, 1149), (43, 1151)]\n",
      "2023-10-01 03:16:12,681 - __main__ - INFO - points_h1:[(26, 23), (1149, 30), (1138, 1149), (43, 1151)]\n",
      "2023-10-01 03:16:12,681 - __main__ - INFO - points_h1:[(26, 23), (1149, 30), (1138, 1149), (43, 1151)]\n",
      "INFO:__main__:points_h1:[(26, 23), (1149, 30), (1138, 1149), (43, 1151)]\n",
      "2023-10-01 03:16:12,687 - __main__ - INFO - points_h2:[(22, 429), (661, 20), (1175, 593), (521, 1100)]\n",
      "2023-10-01 03:16:12,687 - __main__ - INFO - points_h2:[(22, 429), (661, 20), (1175, 593), (521, 1100)]\n",
      "2023-10-01 03:16:12,687 - __main__ - INFO - points_h2:[(22, 429), (661, 20), (1175, 593), (521, 1100)]\n",
      "INFO:__main__:points_h2:[(22, 429), (661, 20), (1175, 593), (521, 1100)]\n"
     ]
    },
    {
     "data": {
      "text/plain": [
       "True"
      ]
     },
     "execution_count": 9,
     "metadata": {},
     "output_type": "execute_result"
    }
   ],
   "source": [
    "\n",
    "\n",
    "# Display the selected points\n",
    "logger.info(f\"points_h1:{points_h1}\")\n",
    "logger.info(f\"points_h2:{points_h2}\")\n",
    "\n",
    "image1 = cv2.imread('h1.jpeg')\n",
    "image2 = cv2.imread('h2.jpeg')\n",
    "image2 = cv2.resize(src=image2, dsize=image1.shape[:2])\n",
    "\n",
    "H_1_to_2 = get_homography_martix(points_1=points_h1, point2_2=points_h2)\n",
    "H_2_to_1 = get_homography_martix(points_1=points_h2, point2_2=points_h1)\n",
    "# H_1_to_2_estimate = cv2.findHomography(random_points_image1, random_points_image2, cv2.RANSAC, ransac_threshold)[0]\n",
    "# image2_height, image2_width = image2.shape\n",
    "# result = cv2.warpPerspective(src=image1, M=H_1_to_2, dsize=(image2.shape[:2]), flags=cv2.INTER_NEAREST, borderMode=cv2.BORDER_CONSTANT, borderValue=[0,0,0])\n",
    "result = cv2.warpPerspective(src=image1, M=H_1_to_2, dsize=(image2.shape[:2]), flags=cv2.INTER_LINEAR, borderMode=cv2.BORDER_CONSTANT, borderValue=[0,0,0])\n",
    "\n",
    "cv2.imwrite('warpPerspective_homography_image1.png', result)\n",
    "result = cv2.warpPerspective(src=image2, M=H_2_to_1, dsize=(image1.shape[:2]), flags=cv2.INTER_LINEAR, borderMode=cv2.BORDER_CONSTANT, borderValue=[0,0,0])\n",
    "cv2.imwrite('warpPerspective_homography_image2.png', result)\n",
    "\n",
    "\n",
    "custom_result = numpy.zeros(shape=image2.shape, dtype=image2.dtype)\n",
    "image2_height, image2_width, _ = image2.shape\n",
    "image1_height, image1_width, _ = image1.shape\n",
    "for y in range(image2_height):\n",
    "    for x in range(image2_width):\n",
    "        p = numpy.dot(H_1_to_2, numpy.array([y, x, 1]))\n",
    "        p = p / p[2]\n",
    "        target_y, target_x = int(p[0]), int(p[1])\n",
    "        if 0 <= target_x < image1_width and 0 <= target_y < image1_height:\n",
    "            custom_result[y, x] = image1[target_y, target_x]\n",
    "        else:\n",
    "            custom_result[y, x] = [0, 0 ,0]\n",
    "cv2.imwrite('custom_homography_image1.png', custom_result)\n",
    "\n",
    "custom_result = numpy.zeros(shape=image1.shape, dtype=image1.dtype)\n",
    "\n",
    "for y in range(image1_height):\n",
    "    for x in range(image1_width):\n",
    "        p = numpy.dot(H_2_to_1, numpy.array([y, x, 1]))\n",
    "        p = p / p[2]\n",
    "        target_y, target_x = int(p[0]), int(p[1])\n",
    "        if 0 <= target_x < image2_width and 0 <= target_y < image2_height:\n",
    "            custom_result[y, x] = image2[target_y, target_x]\n",
    "        else:\n",
    "            custom_result[y, x] = [0,0,0]\n",
    "cv2.imwrite('custom_homography_image2.png', custom_result)\n",
    "\n",
    "\n",
    "\n",
    "\n",
    "\n",
    "\n",
    "\n",
    "\n"
   ]
  }
 ],
 "metadata": {
  "kernelspec": {
   "display_name": ".venv",
   "language": "python",
   "name": "python3"
  },
  "language_info": {
   "codemirror_mode": {
    "name": "ipython",
    "version": 3
   },
   "file_extension": ".py",
   "mimetype": "text/x-python",
   "name": "python",
   "nbconvert_exporter": "python",
   "pygments_lexer": "ipython3",
   "version": "3.10.13"
  },
  "orig_nbformat": 4
 },
 "nbformat": 4,
 "nbformat_minor": 2
}
