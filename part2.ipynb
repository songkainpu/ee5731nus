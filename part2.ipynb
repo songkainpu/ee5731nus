{
 "cells": [
  {
   "cell_type": "code",
   "execution_count": 3,
   "metadata": {},
   "outputs": [
    {
     "name": "stdout",
     "output_type": "stream",
     "text": [
      "Selected points on h1.jpeg:\n",
      "[(275, 164), (422, 246), (635, 316), (380, 164)]\n",
      "\n",
      "Selected points on h2.jpeg:\n",
      "[(459, 187), (224, 199), (211, 242), (93, 231)]\n"
     ]
    },
    {
     "ename": "",
     "evalue": "",
     "output_type": "error",
     "traceback": [
      "\u001b[1;31m在目前儲存格或上一個儲存格中執行程式碼時，Kernel 已損毀。請檢閱儲存格中的程式碼，找出失敗的可能原因。如需詳細資訊，請按一下<a href='https://aka.ms/vscodeJupyterKernelCrash'>這裡</a>。檢視 Jupyter <a href='command:jupyter.viewOutput'>記錄</a>，以取得進一步的詳細資料。"
     ]
    }
   ],
   "source": [
    "import cv2\n",
    "import numpy as np\n",
    "\n",
    "# Load the images h1.jpg and h2.jpg\n",
    "image_h1 = cv2.imread('h1.jpeg')\n",
    "image_h2 = cv2.imread('h2.jpeg')\n",
    "\n",
    "# Create lists to store selected points for h1.jpg and h2.jpg\n",
    "points_h1 = []\n",
    "points_h2 = []\n",
    "\n",
    "# Function to handle mouse events\n",
    "def select_points(event, x, y, flags, param):\n",
    "    global points_h1, points_h2\n",
    "\n",
    "    if event == cv2.EVENT_LBUTTONDOWN:\n",
    "        if len(points_h1) < 4:\n",
    "            points_h1.append((x, y))\n",
    "            cv2.circle(image_h1, (x, y), 3, (0, 0, 255), -1)\n",
    "        elif len(points_h2) < 4:\n",
    "            points_h2.append((x, y))\n",
    "            cv2.circle(image_h2, (x, y), 3, (0, 0, 255), -1)\n",
    "\n",
    "# Create windows to display images and set mouse event handlers\n",
    "cv2.namedWindow('h1.jpeg')\n",
    "cv2.setMouseCallback('h1.jpeg', select_points)\n",
    "cv2.namedWindow('h2.jpeg')\n",
    "cv2.setMouseCallback('h2.jpeg', select_points)\n",
    "\n",
    "while True:\n",
    "    cv2.imshow('h1.jpeg', image_h1)\n",
    "    cv2.imshow('h2.jpeg', image_h2)\n",
    "\n",
    "    # If 8 points are selected, exit the loop\n",
    "    if len(points_h1) == 4 and len(points_h2) == 4:\n",
    "        break\n",
    "\n",
    "    key = cv2.waitKey(1) & 0xFF\n",
    "    if key == 27:  # Press ESC to exit\n",
    "        break\n",
    "\n",
    "# Close OpenCV windows\n",
    "cv2.destroyAllWindows()\n",
    "\n",
    "# Display the selected points\n",
    "print(\"Selected points on h1.jpeg:\")\n",
    "print(points_h1)\n",
    "print(\"\\nSelected points on h2.jpeg:\")\n",
    "print(points_h2)\n"
   ]
  }
 ],
 "metadata": {
  "kernelspec": {
   "display_name": ".venv",
   "language": "python",
   "name": "python3"
  },
  "language_info": {
   "codemirror_mode": {
    "name": "ipython",
    "version": 3
   },
   "file_extension": ".py",
   "mimetype": "text/x-python",
   "name": "python",
   "nbconvert_exporter": "python",
   "pygments_lexer": "ipython3",
   "version": "3.10.13"
  },
  "orig_nbformat": 4
 },
 "nbformat": 4,
 "nbformat_minor": 2
}
