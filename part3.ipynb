{
 "cells": [
  {
   "cell_type": "code",
   "execution_count": 8,
   "metadata": {},
   "outputs": [],
   "source": [
    "import cv2\n",
    "import logging\n",
    "import numpy\n",
    "import typing\n",
    "from utils import (\n",
    "    create_folder, \n",
    "    get_logger, \n",
    "    debounce, \n",
    "    throttle, \n",
    "    get_homography_martix, \n",
    "    select_points)\n",
    "\n",
    "logger: logging.Logger = get_logger(__name__)\n",
    "\n"
   ]
  },
  {
   "cell_type": "code",
   "execution_count": 9,
   "metadata": {},
   "outputs": [
    {
     "data": {
      "text/plain": [
       "-1"
      ]
     },
     "execution_count": 9,
     "metadata": {},
     "output_type": "execute_result"
    }
   ],
   "source": [
    "image1 = cv2.imread('im011/im01.jpg')\n",
    "image2 = cv2.imread('im011/im02.jpg')\n",
    "image2 = cv2.resize(src=image2, dsize=(image1.shape[1], image1.shape[0]))\n",
    "\n",
    "points_im01 = []\n",
    "points_im02 = []\n",
    "cv2.namedWindow('im011/im01.jpg')\n",
    "cv2.setMouseCallback('im011/im01.jpg', \n",
    "                     select_points,\n",
    "                    {\"image\": image1,\n",
    "                     \"point_list\": points_im01})\n",
    "cv2.namedWindow('im011/im02.jpg')\n",
    "cv2.setMouseCallback('im011/im02.jpg', \n",
    "                     select_points,\n",
    "                    {\"image\": image2,\n",
    "                     \"point_list\": points_im02})\n",
    "while True:\n",
    "    # time.sleep(200)\n",
    "    cv2.imshow('im011/im01.jpg', image1)\n",
    "    cv2.imshow('im011/im02.jpg', image2)\n",
    "    if cv2.waitKey(1) & 0xFF == ord(\"q\"):\n",
    "        break\n",
    "\n",
    "cv2.destroyAllWindows()\n",
    "cv2.waitKey(1)\n"
   ]
  },
  {
   "cell_type": "code",
   "execution_count": 21,
   "metadata": {},
   "outputs": [
    {
     "name": "stderr",
     "output_type": "stream",
     "text": [
      "2023-10-02 01:52:51,648 - __main__ - INFO - points_im01:[(615, 257), (322, 228), (329, 421), (614, 465)]\n",
      "2023-10-02 01:52:51,648 - __main__ - INFO - points_im01:[(615, 257), (322, 228), (329, 421), (614, 465)]\n",
      "2023-10-02 01:52:51,648 - __main__ - INFO - points_im01:[(615, 257), (322, 228), (329, 421), (614, 465)]\n",
      "INFO:__main__:points_im01:[(615, 257), (322, 228), (329, 421), (614, 465)]\n",
      "2023-10-02 01:52:51,660 - __main__ - INFO - points_im02:[(320, 283), (24, 246), (21, 473), (316, 469)]\n",
      "2023-10-02 01:52:51,660 - __main__ - INFO - points_im02:[(320, 283), (24, 246), (21, 473), (316, 469)]\n",
      "2023-10-02 01:52:51,660 - __main__ - INFO - points_im02:[(320, 283), (24, 246), (21, 473), (316, 469)]\n",
      "INFO:__main__:points_im02:[(320, 283), (24, 246), (21, 473), (316, 469)]\n",
      "2023-10-02 01:52:51,703 - __main__ - INFO - image1.shape:(480, 640, 3)\n",
      "2023-10-02 01:52:51,703 - __main__ - INFO - image1.shape:(480, 640, 3)\n",
      "2023-10-02 01:52:51,703 - __main__ - INFO - image1.shape:(480, 640, 3)\n",
      "INFO:__main__:image1.shape:(480, 640, 3)\n",
      "2023-10-02 01:52:51,707 - __main__ - INFO - image2.shape:(480, 640, 3)\n",
      "2023-10-02 01:52:51,707 - __main__ - INFO - image2.shape:(480, 640, 3)\n",
      "2023-10-02 01:52:51,707 - __main__ - INFO - image2.shape:(480, 640, 3)\n",
      "INFO:__main__:image2.shape:(480, 640, 3)\n"
     ]
    },
    {
     "data": {
      "text/plain": [
       "True"
      ]
     },
     "execution_count": 21,
     "metadata": {},
     "output_type": "execute_result"
    },
    {
     "ename": "",
     "evalue": "",
     "output_type": "error",
     "traceback": [
      "\u001b[1;31m在目前儲存格或上一個儲存格中執行程式碼時，Kernel 已損毀。請檢閱儲存格中的程式碼，找出失敗的可能原因。如需詳細資訊，請按一下<a href='https://aka.ms/vscodeJupyterKernelCrash'>這裡</a>。檢視 Jupyter <a href='command:jupyter.viewOutput'>記錄</a>，以取得進一步的詳細資料。"
     ]
    }
   ],
   "source": [
    "logger.info(f\"points_im01:{points_im01}\")\n",
    "logger.info(f\"points_im02:{points_im02}\")\n",
    "\n",
    "image1 = cv2.imread('im011/im01.jpg')\n",
    "image2 = cv2.imread('im011/im02.jpg')\n",
    "image2 = cv2.resize(src=image2, dsize=(image1.shape[1], image1.shape[0]))\n",
    "logger.info(f\"image1.shape:{image1.shape}\")\n",
    "logger.info(f\"image2.shape:{image2.shape}\")\n",
    "\n",
    "H_2_to_1 = get_homography_martix(points_1=points_im02, points_2=points_im01)\n",
    "image2_height, image2_width, _ = image2.shape\n",
    "image1_height, image1_width, _ = image1.shape\n",
    "\n",
    "custom_result1 = numpy.zeros(shape=[image1.shape[0] + image1.shape[0], image1.shape[1] + image1.shape[1] , image1.shape[2]], \n",
    "                            dtype=image1.dtype)\n",
    "result_height, result_width, _ = custom_result1.shape\n",
    "delta_y = int(result_height/ 4)\n",
    "delta_x = int(result_width/ 4)\n",
    "\n",
    "for y in range(image2_height):\n",
    "    for x in range(image2_width):\n",
    "        p = numpy.dot(H_2_to_1, numpy.array([x, y, 1]))\n",
    "        p = p / p[2]\n",
    "        target_x, target_y = int(p[0]), int(p[1]) + delta_y\n",
    "        if 0 <= target_x < result_width and 0 <= target_y < result_height:\n",
    "            custom_result1[target_y, target_x] = image2[y, x]\n",
    "# the reflection is not successive- >\n",
    "# therefore there are some internal empty points\n",
    "# black_point_mask = (custom_result1 == 0).astype(numpy.uint8)\n",
    "# black_point_mask = cv2.cvtColor(src=black_point_mask, code=cv2.COLOR_BGR2GRAY)\n",
    "# custom_result1 = cv2.inpaint(src=black_point_mask, \n",
    "#                              inpaintMask=black_point_mask, \n",
    "#                              inpaintRadius=5, \n",
    "#                              flags=cv2.INPAINT_TELEA)\n",
    "cv2.imwrite('custom_result1.png', custom_result1)\n",
    "\n",
    "custom_result2 = numpy.zeros(shape=[image2.shape[0] + image2.shape[0], image2.shape[1] + image2.shape[1] , image2.shape[2]], \n",
    "                            dtype=image2.dtype)\n",
    "\n",
    "result_height, result_width, _ = custom_result2.shape\n",
    "delta_y = int(result_height/ 4)\n",
    "delta_x = int(result_width/ 4)\n",
    "for y in range(image1_height):\n",
    "    for x in range(image1_width):\n",
    "        # target_y, target_x = int(y * 2), int(x * 2)\n",
    "        target_y, target_x = y + delta_y, x\n",
    "        if 0 <= target_x < result_width and 0 <= target_y < result_height:\n",
    "            custom_result2[target_y, target_x] = image1[y, x]\n",
    "\n",
    "\n",
    "result = cv2.addWeighted(src1=custom_result1, \n",
    "                         alpha=0.5, \n",
    "                         src2=custom_result2, \n",
    "                         beta=0.5, \n",
    "                         gamma=0)\n",
    "\n",
    "cv2.imwrite('part3_custom_homography_image2.png', result)\n",
    "# combo_result = (image1 + custom_result) / 2\n",
    "# cv2.imwrite('part3_combo.png', combo_result)\n",
    "\n",
    "\n"
   ]
  }
 ],
 "metadata": {
  "kernelspec": {
   "display_name": ".venv",
   "language": "python",
   "name": "python3"
  },
  "language_info": {
   "codemirror_mode": {
    "name": "ipython",
    "version": 3
   },
   "file_extension": ".py",
   "mimetype": "text/x-python",
   "name": "python",
   "nbconvert_exporter": "python",
   "pygments_lexer": "ipython3",
   "version": "3.10.13"
  },
  "orig_nbformat": 4
 },
 "nbformat": 4,
 "nbformat_minor": 2
}
